{
 "cells": [
  {
   "cell_type": "code",
   "execution_count": 14,
   "metadata": {},
   "outputs": [
    {
     "name": "stdout",
     "output_type": "stream",
     "text": [
      "[5, 11, 12, 22, 25, 34, 64, 90]\n"
     ]
    }
   ],
   "source": [
    "# Selection Sort\n",
    "arr = [64, 34, 25, 5, 22, 11, 90, 12]\n",
    "for i in range(1,len(arr)):\n",
    "    min_idx = i-1\n",
    "    for j in range(i,len(arr)): \n",
    "        if arr[min_idx]>arr[j]: min_idx=j \n",
    "    arr[i-1],arr[min_idx]=arr[min_idx],arr[i-1]\n",
    "print(arr)\n"
   ]
  },
  {
   "cell_type": "code",
   "execution_count": 25,
   "metadata": {},
   "outputs": [
    {
     "name": "stdout",
     "output_type": "stream",
     "text": [
      "[64, 34, 25, 5, 22, 11, 90, 12]\n",
      "[34, 64, 25, 5, 22, 11, 90, 12]\n",
      "[25, 34, 64, 5, 22, 11, 90, 12]\n",
      "[5, 25, 34, 64, 22, 11, 90, 12]\n",
      "[5, 22, 25, 34, 64, 11, 90, 12]\n",
      "[5, 11, 22, 25, 34, 64, 90, 12]\n",
      "[5, 11, 22, 25, 34, 64, 90, 12]\n",
      "[5, 11, 12, 22, 25, 34, 64, 90]\n"
     ]
    }
   ],
   "source": [
    "# Insertion Sort\n",
    "arr = [64, 34, 25, 5, 22, 11, 90, 12]\n",
    "for i in range(1,len(arr)):\n",
    "    val = arr[i]\n",
    "    ins_idx =i\n",
    "    for j in range(i-1,-1,-1):\n",
    "        if (val<arr[j]): \n",
    "            arr[j+1] = arr[j]\n",
    "            ins_idx = j\n",
    "        else: break\n",
    "    arr[ins_idx] = val\n",
    "print(arr)"
   ]
  },
  {
   "cell_type": "code",
   "execution_count": 26,
   "metadata": {},
   "outputs": [
    {
     "name": "stdout",
     "output_type": "stream",
     "text": [
      "[5, 11, 12, 22, 25, 34, 64, 90]\n"
     ]
    }
   ],
   "source": [
    "#Quicksort\n",
    "arr = [64, 34, 25, 5, 22, 11, 90, 12]\n",
    "def partition(arr, low, high):\n",
    "    pivot=arr[high]\n",
    "    i = low-1\n",
    "    for j in range(low,high):\n",
    "        if arr[j]<pivot:\n",
    "            i+=1\n",
    "            arr[i],arr[j]=arr[j],arr[i]\n",
    "    arr[i+1],arr[high]=arr[high],arr[i+1] \n",
    "    return i+1\n",
    "\n",
    "def quicksort(arr,low=0,high=None):\n",
    "    if high==None:high=len(arr)-1\n",
    "    if low<high:\n",
    "        pivot = partition(arr,low,high)\n",
    "        quicksort(arr,low,pivot-1)\n",
    "        quicksort(arr,pivot+1,high)\n",
    "\n",
    "quicksort(arr)\n",
    "print(arr)"
   ]
  },
  {
   "cell_type": "code",
   "execution_count": 31,
   "metadata": {},
   "outputs": [
    {
     "name": "stdout",
     "output_type": "stream",
     "text": [
      "[5, 11, 12, 22, 25, 34, 64, 90]\n"
     ]
    }
   ],
   "source": [
    "#Mergesort\n",
    "def merge_sort(arr):\n",
    "    '''\n",
    "    Break Array until only one element left and sort it\n",
    "    '''\n",
    "    if len(arr)<=1:\n",
    "        return arr\n",
    "    mid = len(arr)//2\n",
    "    left_sorted = merge_sort(arr[:mid])\n",
    "    right_sorted= merge_sort(arr[mid:])\n",
    "    return merge(left_sorted,right_sorted)\n",
    "\n",
    "def merge(left,right):\n",
    "    result = []\n",
    "    i=j=0\n",
    "    while i<len(left) and j<len(right):\n",
    "        if left[i]<right[j]:\n",
    "            result.append(left[i])\n",
    "            i+=1\n",
    "        else: \n",
    "            result.append(right[j])\n",
    "            j+=1\n",
    "    result.extend(left[i:])\n",
    "    result.extend(right[j:])\n",
    "    return result\n",
    "\n",
    "arr = [64, 34, 25, 5, 22, 11, 90, 12]\n",
    "sorted_arr = merge_sort(arr)\n",
    "print(sorted_arr)"
   ]
  },
  {
   "cell_type": "code",
   "execution_count": 58,
   "metadata": {},
   "outputs": [
    {
     "name": "stdout",
     "output_type": "stream",
     "text": [
      "22\n",
      "5\n"
     ]
    }
   ],
   "source": [
    "#Binary Search\n",
    "def binary_search(arr,target_val):\n",
    "    left = 0\n",
    "    right = len(arr)-1\n",
    "    while(left<=right):\n",
    "        mid=(left+right)//2\n",
    "        if arr[mid]==target_val: return mid\n",
    "        elif arr[mid]>target_val: right=mid-1\n",
    "        else: left=mid+1\n",
    "    return -1\n",
    "\n",
    "arr = [5, 11, 12, 22, 25, 34, 64, 90]\n",
    "print(binary_search(arr,34))"
   ]
  }
 ],
 "metadata": {
  "kernelspec": {
   "display_name": "tf_env",
   "language": "python",
   "name": "python3"
  },
  "language_info": {
   "codemirror_mode": {
    "name": "ipython",
    "version": 3
   },
   "file_extension": ".py",
   "mimetype": "text/x-python",
   "name": "python",
   "nbconvert_exporter": "python",
   "pygments_lexer": "ipython3",
   "version": "3.10.11"
  }
 },
 "nbformat": 4,
 "nbformat_minor": 2
}
